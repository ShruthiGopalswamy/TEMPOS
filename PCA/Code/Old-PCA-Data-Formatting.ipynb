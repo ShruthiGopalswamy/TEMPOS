{
 "metadata": {
  "name": "",
  "signature": "sha256:3b6193c0a83aa5e400d600627bb7e1d198ad7c435a106204de59bf5f86788651"
 },
 "nbformat": 3,
 "nbformat_minor": 0,
 "worksheets": [
  {
   "cells": [
    {
     "cell_type": "markdown",
     "metadata": {},
     "source": [
      "# PCA Toy Data Formatting"
     ]
    },
    {
     "cell_type": "code",
     "collapsed": false,
     "input": [
      "import os\n",
      "import pandas as pd\n",
      "import numpy as np\n",
      "from PySide import QtGui\n",
      "from PySide import QtCore\n",
      "from matplotlib import pyplot as plt\n",
      "import pyqtgraph as pg\n",
      "from functools import partial"
     ],
     "language": "python",
     "metadata": {},
     "outputs": [],
     "prompt_number": 1
    },
    {
     "cell_type": "code",
     "collapsed": false,
     "input": [
      "os.getcwd()"
     ],
     "language": "python",
     "metadata": {},
     "outputs": [
      {
       "metadata": {},
       "output_type": "pyout",
       "prompt_number": 2,
       "text": [
        "'C:\\\\Users\\\\Zach\\\\Dropbox\\\\School Work\\\\Spring 2016\\\\Bioinformatics\\\\Project\\\\Code\\\\Python App\\\\PCA-Version3'"
       ]
      }
     ],
     "prompt_number": 2
    },
    {
     "cell_type": "code",
     "collapsed": false,
     "input": [
      "labels = [1,2,3,4,5,6]\n",
      "data = {}    "
     ],
     "language": "python",
     "metadata": {},
     "outputs": [],
     "prompt_number": 3
    },
    {
     "cell_type": "code",
     "collapsed": false,
     "input": [
      "for each in labels:\n",
      "    x = range(1,30)\n",
      "    y = np.random.normal(loc=2, scale=1.5, size=len(x))\n",
      "    \n",
      "    temp = pd.DataFrame({'x':x, 'y':y})\n",
      "    \n",
      "    data[str(each)] = temp"
     ],
     "language": "python",
     "metadata": {},
     "outputs": [],
     "prompt_number": 5
    },
    {
     "cell_type": "code",
     "collapsed": false,
     "input": [
      "data.keys()"
     ],
     "language": "python",
     "metadata": {},
     "outputs": [
      {
       "metadata": {},
       "output_type": "pyout",
       "prompt_number": 6,
       "text": [
        "['1', '3', '2', '5', '4', '6']"
       ]
      }
     ],
     "prompt_number": 6
    },
    {
     "cell_type": "code",
     "collapsed": false,
     "input": [
      "plt.figure()\n",
      "plt.plot(data['1']['x'],data['1']['y'])"
     ],
     "language": "python",
     "metadata": {},
     "outputs": [
      {
       "metadata": {},
       "output_type": "pyout",
       "prompt_number": 7,
       "text": [
        "[<matplotlib.lines.Line2D at 0x8e3a780>]"
       ]
      },
      {
       "metadata": {},
       "output_type": "display_data",
       "png": "[encoded data removed]",
       "text": [
        "<matplotlib.figure.Figure at 0x8a43a58>"
       ]
      }
     ],
     "prompt_number": 7
    },
    {
     "cell_type": "code",
     "collapsed": false,
     "input": [
      "stuff = data['1']\n",
      "stuff.head()"
     ],
     "language": "python",
     "metadata": {},
     "outputs": [
      {
       "html": [
        "<div style=\"max-width:1500px;overflow:auto;\">\n",
        "<table border=\"1\" class=\"dataframe\">\n",
        "  <thead>\n",
        "    <tr style=\"text-align: right;\">\n",
        "      <th></th>\n",
        "      <th>x</th>\n",
        "      <th>y</th>\n",
        "    </tr>\n",
        "  </thead>\n",
        "  <tbody>\n",
        "    <tr>\n",
        "      <th>0</th>\n",
        "      <td>1</td>\n",
        "      <td>2.520451</td>\n",
        "    </tr>\n",
        "    <tr>\n",
        "      <th>1</th>\n",
        "      <td>2</td>\n",
        "      <td>3.886546</td>\n",
        "    </tr>\n",
        "    <tr>\n",
        "      <th>2</th>\n",
        "      <td>3</td>\n",
        "      <td>1.586501</td>\n",
        "    </tr>\n",
        "    <tr>\n",
        "      <th>3</th>\n",
        "      <td>4</td>\n",
        "      <td>2.830239</td>\n",
        "    </tr>\n",
        "    <tr>\n",
        "      <th>4</th>\n",
        "      <td>5</td>\n",
        "      <td>2.498845</td>\n",
        "    </tr>\n",
        "  </tbody>\n",
        "</table>\n",
        "</div>"
       ],
       "metadata": {},
       "output_type": "pyout",
       "prompt_number": 25,
       "text": [
        "   x         y\n",
        "0  1  2.520451\n",
        "1  2  3.886546\n",
        "2  3  1.586501\n",
        "3  4  2.830239\n",
        "4  5  2.498845"
       ]
      }
     ],
     "prompt_number": 25
    },
    {
     "cell_type": "code",
     "collapsed": false,
     "input": [
      "np.floor(stuff[stuff['y'] < 2]['y'])"
     ],
     "language": "python",
     "metadata": {},
     "outputs": [
      {
       "metadata": {},
       "output_type": "pyout",
       "prompt_number": 26,
       "text": [
        "2     1.0\n",
        "5     1.0\n",
        "6     0.0\n",
        "12    0.0\n",
        "13    0.0\n",
        "19    1.0\n",
        "20    1.0\n",
        "22   -1.0\n",
        "23    1.0\n",
        "24    0.0\n",
        "25    0.0\n",
        "26    0.0\n",
        "28    0.0\n",
        "Name: y, dtype: float64"
       ]
      }
     ],
     "prompt_number": 26
    },
    {
     "cell_type": "markdown",
     "metadata": {},
     "source": [
      "# List Widget Item Manipulation"
     ]
    },
    {
     "cell_type": "code",
     "collapsed": false,
     "input": [
      "item = QtGui.QListWidgetItem('1')\n",
      "print item.text()"
     ],
     "language": "python",
     "metadata": {},
     "outputs": [
      {
       "output_type": "stream",
       "stream": "stdout",
       "text": [
        "1\n"
       ]
      }
     ],
     "prompt_number": 16
    },
    {
     "cell_type": "markdown",
     "metadata": {},
     "source": [
      "# PCA Bar Graph Implementation"
     ]
    },
    {
     "cell_type": "code",
     "collapsed": false,
     "input": [
      "# See PCA-Version3.ipynb for working version\n",
      "a = pg.BarGraphItem(x=range(1,10),height=[i*3 for i in range(1,10)],width=0.3)\n",
      "win = pg.GraphicsWindow('Bar removal test')\n",
      "p1 = win.addPlot(title='Test plot')\n",
      "l = p1.addLegend()\n",
      "for each in p1.allChildItems():\n",
      "    print type(each)\n",
      "    print isinstance(each, pg.LegendItem)\n",
      "    print '\\n\\n'\n",
      "p1.addItem(a)"
     ],
     "language": "python",
     "metadata": {},
     "outputs": [
      {
       "output_type": "stream",
       "stream": "stdout",
       "text": [
        "<class 'pyqtgraph.graphicsItems.AxisItem.AxisItem'>\n",
        "False\n",
        "\n",
        "\n",
        "\n",
        "<type 'PySide.QtGui.QGraphicsTextItem'>\n",
        "False\n",
        "\n",
        "\n",
        "\n",
        "<class 'pyqtgraph.graphicsItems.AxisItem.AxisItem'>\n",
        "False\n",
        "\n",
        "\n",
        "\n",
        "<type 'PySide.QtGui.QGraphicsTextItem'>\n",
        "False\n",
        "\n",
        "\n",
        "\n",
        "<class 'pyqtgraph.graphicsItems.AxisItem.AxisItem'>\n",
        "False\n",
        "\n",
        "\n",
        "\n",
        "<type 'PySide.QtGui.QGraphicsTextItem'>\n",
        "False\n",
        "\n",
        "\n",
        "\n",
        "<class 'pyqtgraph.graphicsItems.AxisItem.AxisItem'>\n",
        "False\n",
        "\n",
        "\n",
        "\n",
        "<type 'PySide.QtGui.QGraphicsTextItem'>\n",
        "False\n",
        "\n",
        "\n",
        "\n",
        "<class 'pyqtgraph.graphicsItems.ViewBox.ViewBox.ViewBox'>\n",
        "False\n",
        "\n",
        "\n",
        "\n",
        "<type 'PySide.QtGui.QGraphicsRectItem'>\n",
        "False\n",
        "\n",
        "\n",
        "\n",
        "<class 'pyqtgraph.graphicsItems.ViewBox.ViewBox.ChildGroup'>\n",
        "False\n",
        "\n",
        "\n",
        "\n",
        "<type 'PySide.QtGui.QGraphicsRectItem'>\n",
        "False\n",
        "\n",
        "\n",
        "\n",
        "<type 'PySide.QtGui.QGraphicsRectItem'>\n",
        "False\n",
        "\n",
        "\n",
        "\n",
        "<class 'pyqtgraph.graphicsItems.LegendItem.LegendItem'>\n",
        "True\n",
        "\n",
        "\n",
        "\n",
        "<class 'pyqtgraph.graphicsItems.LabelItem.LabelItem'>\n",
        "False\n",
        "\n",
        "\n",
        "\n",
        "<type 'PySide.QtGui.QGraphicsTextItem'>\n",
        "False\n",
        "\n",
        "\n",
        "\n"
       ]
      }
     ],
     "prompt_number": 8
    },
    {
     "cell_type": "code",
     "collapsed": false,
     "input": [
      "for each in p1.allChildItems():\n",
      "    print type(each)\n",
      "for each in p1.allChildItems():\n",
      "    if type(each) == type(pg.BarGraphItem()):\n",
      "        p1.removeItem(each)\n",
      "    if isinstance(each, pg.LegendItem):\n",
      "        p1.removeItem(each)\n",
      "    if isinstance(each,pg.LabelItem):\n",
      "        p1.removeItem(each)\n",
      "print('\\n\\n\\n')\n",
      "for each in p1.allChildItems():\n",
      "    print type(each)"
     ],
     "language": "python",
     "metadata": {},
     "outputs": [
      {
       "output_type": "stream",
       "stream": "stdout",
       "text": [
        "<class 'pyqtgraph.graphicsItems.AxisItem.AxisItem'>\n",
        "<type 'PySide.QtGui.QGraphicsTextItem'>\n",
        "<class 'pyqtgraph.graphicsItems.AxisItem.AxisItem'>\n",
        "<type 'PySide.QtGui.QGraphicsTextItem'>\n",
        "<class 'pyqtgraph.graphicsItems.AxisItem.AxisItem'>\n",
        "<type 'PySide.QtGui.QGraphicsTextItem'>\n",
        "<class 'pyqtgraph.graphicsItems.AxisItem.AxisItem'>\n",
        "<type 'PySide.QtGui.QGraphicsTextItem'>\n",
        "<class 'pyqtgraph.graphicsItems.ViewBox.ViewBox.ViewBox'>\n",
        "<type 'PySide.QtGui.QGraphicsRectItem'>\n",
        "<class 'pyqtgraph.graphicsItems.ViewBox.ViewBox.ChildGroup'>\n",
        "<class 'pyqtgraph.graphicsItems.BarGraphItem.BarGraphItem'>\n",
        "<type 'PySide.QtGui.QGraphicsRectItem'>\n",
        "<type 'PySide.QtGui.QGraphicsRectItem'>\n",
        "<class 'pyqtgraph.graphicsItems.LegendItem.LegendItem'>\n",
        "<class 'pyqtgraph.graphicsItems.LabelItem.LabelItem'>\n",
        "<type 'PySide.QtGui.QGraphicsTextItem'>\n",
        "\n",
        "\n",
        "\n",
        "\n",
        "<class 'pyqtgraph.graphicsItems.AxisItem.AxisItem'>\n",
        "<type 'PySide.QtGui.QGraphicsTextItem'>\n",
        "<class 'pyqtgraph.graphicsItems.AxisItem.AxisItem'>\n",
        "<type 'PySide.QtGui.QGraphicsTextItem'>\n",
        "<class 'pyqtgraph.graphicsItems.AxisItem.AxisItem'>\n",
        "<type 'PySide.QtGui.QGraphicsTextItem'>\n",
        "<class 'pyqtgraph.graphicsItems.AxisItem.AxisItem'>\n",
        "<type 'PySide.QtGui.QGraphicsTextItem'>\n",
        "<class 'pyqtgraph.graphicsItems.ViewBox.ViewBox.ViewBox'>\n",
        "<type 'PySide.QtGui.QGraphicsRectItem'>\n",
        "<class 'pyqtgraph.graphicsItems.ViewBox.ViewBox.ChildGroup'>\n",
        "<type 'PySide.QtGui.QGraphicsRectItem'>\n",
        "<type 'PySide.QtGui.QGraphicsRectItem'>\n",
        "<class 'pyqtgraph.graphicsItems.LegendItem.LegendItem'>\n",
        "<class 'pyqtgraph.graphicsItems.LabelItem.LabelItem'>\n",
        "<type 'PySide.QtGui.QGraphicsTextItem'>\n"
       ]
      }
     ],
     "prompt_number": 9
    },
    {
     "cell_type": "markdown",
     "metadata": {},
     "source": [
      "# Line plotting problem troubleshooting"
     ]
    },
    {
     "cell_type": "code",
     "collapsed": false,
     "input": [
      "temp_df[temp_df['y'] > 2]['x'].values"
     ],
     "language": "python",
     "metadata": {},
     "outputs": [
      {
       "ename": "NameError",
       "evalue": "name 'temp_df' is not defined",
       "output_type": "pyerr",
       "traceback": [
        "\u001b[1;31m---------------------------------------------------------------------------\u001b[0m\n\u001b[1;31mNameError\u001b[0m                                 Traceback (most recent call last)",
        "\u001b[1;32m<ipython-input-2-d94084e7c351>\u001b[0m in \u001b[0;36m<module>\u001b[1;34m()\u001b[0m\n\u001b[1;32m----> 1\u001b[1;33m \u001b[0mtemp_df\u001b[0m\u001b[1;33m[\u001b[0m\u001b[0mtemp_df\u001b[0m\u001b[1;33m[\u001b[0m\u001b[1;34m'y'\u001b[0m\u001b[1;33m]\u001b[0m \u001b[1;33m>\u001b[0m \u001b[1;36m2\u001b[0m\u001b[1;33m]\u001b[0m\u001b[1;33m[\u001b[0m\u001b[1;34m'x'\u001b[0m\u001b[1;33m]\u001b[0m\u001b[1;33m.\u001b[0m\u001b[0mvalues\u001b[0m\u001b[1;33m\u001b[0m\u001b[0m\n\u001b[0m",
        "\u001b[1;31mNameError\u001b[0m: name 'temp_df' is not defined"
       ]
      }
     ],
     "prompt_number": 2
    },
    {
     "cell_type": "code",
     "collapsed": false,
     "input": [
      "seriesData = {}\n",
      "for each in range(1,7):\n",
      "    x = range(1,30)\n",
      "    y = np.random.normal(loc=3, scale=1.5, size=len(x))\n",
      "    temp = pd.DataFrame({'x':x, 'y':y})\n",
      "    seriesData[str(each)] = temp\n",
      "\n",
      "temp_df = seriesData['1']\n",
      "temp_df.head()"
     ],
     "language": "python",
     "metadata": {},
     "outputs": [
      {
       "html": [
        "<div style=\"max-width:1500px;overflow:auto;\">\n",
        "<table border=\"1\" class=\"dataframe\">\n",
        "  <thead>\n",
        "    <tr style=\"text-align: right;\">\n",
        "      <th></th>\n",
        "      <th>x</th>\n",
        "      <th>y</th>\n",
        "    </tr>\n",
        "  </thead>\n",
        "  <tbody>\n",
        "    <tr>\n",
        "      <th>0</th>\n",
        "      <td>1</td>\n",
        "      <td>3.123309</td>\n",
        "    </tr>\n",
        "    <tr>\n",
        "      <th>1</th>\n",
        "      <td>2</td>\n",
        "      <td>1.058941</td>\n",
        "    </tr>\n",
        "    <tr>\n",
        "      <th>2</th>\n",
        "      <td>3</td>\n",
        "      <td>3.136292</td>\n",
        "    </tr>\n",
        "    <tr>\n",
        "      <th>3</th>\n",
        "      <td>4</td>\n",
        "      <td>-0.063988</td>\n",
        "    </tr>\n",
        "    <tr>\n",
        "      <th>4</th>\n",
        "      <td>5</td>\n",
        "      <td>0.524104</td>\n",
        "    </tr>\n",
        "  </tbody>\n",
        "</table>\n",
        "</div>"
       ],
       "metadata": {},
       "output_type": "pyout",
       "prompt_number": 3,
       "text": [
        "   x         y\n",
        "0  1  3.123309\n",
        "1  2  1.058941\n",
        "2  3  3.136292\n",
        "3  4 -0.063988\n",
        "4  5  0.524104"
       ]
      }
     ],
     "prompt_number": 3
    },
    {
     "cell_type": "code",
     "collapsed": false,
     "input": [
      "len(deliveries)"
     ],
     "language": "python",
     "metadata": {},
     "outputs": [
      {
       "ename": "NameError",
       "evalue": "name 'deliveries' is not defined",
       "output_type": "pyerr",
       "traceback": [
        "\u001b[1;31m---------------------------------------------------------------------------\u001b[0m\n\u001b[1;31mNameError\u001b[0m                                 Traceback (most recent call last)",
        "\u001b[1;32m<ipython-input-4-ad28e794b975>\u001b[0m in \u001b[0;36m<module>\u001b[1;34m()\u001b[0m\n\u001b[1;32m----> 1\u001b[1;33m \u001b[0mlen\u001b[0m\u001b[1;33m(\u001b[0m\u001b[0mdeliveries\u001b[0m\u001b[1;33m)\u001b[0m\u001b[1;33m\u001b[0m\u001b[0m\n\u001b[0m",
        "\u001b[1;31mNameError\u001b[0m: name 'deliveries' is not defined"
       ]
      }
     ],
     "prompt_number": 4
    },
    {
     "cell_type": "markdown",
     "metadata": {},
     "source": [
      "# New sample data"
     ]
    },
    {
     "cell_type": "code",
     "collapsed": false,
     "input": [
      "x = range(100)\n",
      "y = np.random.normal(loc=0.5,scale=0.5,size=len(x))"
     ],
     "language": "python",
     "metadata": {},
     "outputs": [],
     "prompt_number": 5
    },
    {
     "cell_type": "code",
     "collapsed": false,
     "input": [
      "y = np.ceil(y)\n",
      "y = y * 3"
     ],
     "language": "python",
     "metadata": {},
     "outputs": [],
     "prompt_number": 6
    },
    {
     "cell_type": "code",
     "collapsed": false,
     "input": [
      "unique(y)"
     ],
     "language": "python",
     "metadata": {},
     "outputs": [
      {
       "metadata": {},
       "output_type": "pyout",
       "prompt_number": 7,
       "text": [
        "array([-0.,  3.,  6.])"
       ]
      }
     ],
     "prompt_number": 7
    },
    {
     "cell_type": "code",
     "collapsed": false,
     "input": [
      "plt.bar(x,y)"
     ],
     "language": "python",
     "metadata": {},
     "outputs": [
      {
       "metadata": {},
       "output_type": "pyout",
       "prompt_number": 8,
       "text": [
        "<Container object of 100 artists>"
       ]
      },
      {
       "metadata": {},
       "output_type": "display_data",
       "png": "[encoded data removed]",
       "text": [
        "<matplotlib.figure.Figure at 0xa0b0eb8>"
       ]
      }
     ],
     "prompt_number": 8
    },
    {
     "cell_type": "code",
     "collapsed": false,
     "input": [
      "data = pd.DataFrame({'x':x,'y':y})\n",
      "data.head()"
     ],
     "language": "python",
     "metadata": {},
     "outputs": [],
     "prompt_number": 21
    },
    {
     "cell_type": "code",
     "collapsed": false,
     "input": [
      "attempts = data[data['y'] == 3]\n",
      "deliveries = data[data['y'] == 6]"
     ],
     "language": "python",
     "metadata": {},
     "outputs": [],
     "prompt_number": 23
    },
    {
     "cell_type": "code",
     "collapsed": false,
     "input": [
      "# We will define \"rest\" as the time between pateint REQUESTS for medication.\n",
      "attempts.index"
     ],
     "language": "python",
     "metadata": {},
     "outputs": [
      {
       "metadata": {},
       "output_type": "pyout",
       "prompt_number": 28,
       "text": [
        "Int64Index([ 5,  6, 12, 13, 14, 16, 17, 18, 19, 21, 22, 24, 25, 26, 27, 29, 30,\n",
        "            31, 33, 34, 35, 36, 37, 39, 40, 41, 42, 44, 45, 46, 47, 50, 55, 56,\n",
        "            59, 61, 62, 64, 65, 66, 68, 69, 70, 72, 73, 74, 75, 76, 77, 78, 79,\n",
        "            81, 82, 83, 84, 86, 87, 88, 89, 91, 93, 94, 95, 97, 98, 99],\n",
        "           dtype='int64')"
       ]
      }
     ],
     "prompt_number": 28
    },
    {
     "cell_type": "code",
     "collapsed": false,
     "input": [
      "# Determine time differences between each element in array.\n",
      "differences = []\n",
      "for i in range(len(attempts.index)):\n",
      "    if i == 0:\n",
      "        differences.append(attempts.index[i])\n",
      "    else:\n",
      "        temp = attempts.index[i] - attempts.index[i-1]\n",
      "        differences.append(temp)\n",
      "differences[:10]"
     ],
     "language": "python",
     "metadata": {},
     "outputs": [
      {
       "metadata": {},
       "output_type": "pyout",
       "prompt_number": 39,
       "text": [
        "[5, 1, 6, 1, 1, 2, 1, 1, 1, 2]"
       ]
      }
     ],
     "prompt_number": 39
    },
    {
     "cell_type": "code",
     "collapsed": false,
     "input": [
      "# The one-minute time differences do not represent a valuable delay since our resolution is only as small as the minute.\n",
      "# Should I even account for the 1-minute differences or should I just drop them?\n",
      "len(differences)"
     ],
     "language": "python",
     "metadata": {},
     "outputs": [
      {
       "metadata": {},
       "output_type": "pyout",
       "prompt_number": 40,
       "text": [
        "66"
       ]
      }
     ],
     "prompt_number": 40
    },
    {
     "cell_type": "code",
     "collapsed": false,
     "input": [
      "plt.hist(differences, bins = 5)"
     ],
     "language": "python",
     "metadata": {},
     "outputs": [
      {
       "metadata": {},
       "output_type": "pyout",
       "prompt_number": 47,
       "text": [
        "(array([ 45.,  16.,   2.,   0.,   3.]),\n",
        " array([ 1.,  2.,  3.,  4.,  5.,  6.]),\n",
        " <a list of 5 Patch objects>)"
       ]
      },
      {
       "metadata": {},
       "output_type": "display_data",
       "png": "[encoded data removed]",
       "text": [
        "<matplotlib.figure.Figure at 0xc15cda0>"
       ]
      }
     ],
     "prompt_number": 47
    },
    {
     "cell_type": "code",
     "collapsed": false,
     "input": [
      "def rest_from_attempts(attempts_index):\n",
      "    differences = []\n",
      "    for i in range(len(attempts_index)):\n",
      "        if i == 0:\n",
      "            differences.append(attempts_index[i])\n",
      "        else:\n",
      "            temp = attempts_index[i] - attempts.index[i-1]\n",
      "            differences.append(temp)\n",
      "    "
     ],
     "language": "python",
     "metadata": {},
     "outputs": [
      {
       "metadata": {},
       "output_type": "pyout",
       "prompt_number": 41,
       "text": [
        "66"
       ]
      }
     ],
     "prompt_number": 41
    },
    {
     "cell_type": "code",
     "collapsed": false,
     "input": [],
     "language": "python",
     "metadata": {},
     "outputs": []
    },
    {
     "cell_type": "code",
     "collapsed": false,
     "input": [],
     "language": "python",
     "metadata": {},
     "outputs": []
    },
    {
     "cell_type": "markdown",
     "metadata": {},
     "source": [
      "# Summary Statistics Table"
     ]
    },
    {
     "cell_type": "code",
     "collapsed": false,
     "input": [
      "attempts = {}\n",
      "deliveries = {}\n",
      "rest = {}\n",
      "\n",
      "# Create sample *distributionData dictionaries.\n",
      "for each in range(1,7):\n",
      "    x = range(1,100)\n",
      "    y1 = np.random.normal(loc=3, scale=1.5, size=len(x))\n",
      "    y2 = np.random.normal(loc=5, scale=1, size=len(x))\n",
      "    y3 = np.random.normal(loc=7, scale=1, size=len(x))\n",
      "    temp = pd.DataFrame({'x':x, 'y':y1})\n",
      "    temp2 = pd.DataFrame({'x':x, 'y':y2})\n",
      "    temp3 = pd.DataFrame({'x':x, 'y':y2})\n",
      "    attempts[str(each)] = temp\n",
      "    deliveries[str(each)] = temp2\n",
      "    rest[str(each)] = temp3\n",
      "attempts['1'].head()"
     ],
     "language": "python",
     "metadata": {},
     "outputs": [
      {
       "html": [
        "<div style=\"max-width:1500px;overflow:auto;\">\n",
        "<table border=\"1\" class=\"dataframe\">\n",
        "  <thead>\n",
        "    <tr style=\"text-align: right;\">\n",
        "      <th></th>\n",
        "      <th>x</th>\n",
        "      <th>y</th>\n",
        "    </tr>\n",
        "  </thead>\n",
        "  <tbody>\n",
        "    <tr>\n",
        "      <th>0</th>\n",
        "      <td>1</td>\n",
        "      <td>3.411047</td>\n",
        "    </tr>\n",
        "    <tr>\n",
        "      <th>1</th>\n",
        "      <td>2</td>\n",
        "      <td>2.015746</td>\n",
        "    </tr>\n",
        "    <tr>\n",
        "      <th>2</th>\n",
        "      <td>3</td>\n",
        "      <td>3.411512</td>\n",
        "    </tr>\n",
        "    <tr>\n",
        "      <th>3</th>\n",
        "      <td>4</td>\n",
        "      <td>3.767594</td>\n",
        "    </tr>\n",
        "    <tr>\n",
        "      <th>4</th>\n",
        "      <td>5</td>\n",
        "      <td>2.349223</td>\n",
        "    </tr>\n",
        "  </tbody>\n",
        "</table>\n",
        "</div>"
       ],
       "metadata": {},
       "output_type": "pyout",
       "prompt_number": 2,
       "text": [
        "   x         y\n",
        "0  1  3.411047\n",
        "1  2  2.015746\n",
        "2  3  3.411512\n",
        "3  4  3.767594\n",
        "4  5  2.349223"
       ]
      }
     ],
     "prompt_number": 2
    },
    {
     "cell_type": "code",
     "collapsed": false,
     "input": [
      "class TestWindow(QtGui.QWidget):\n",
      "    \n",
      "    # Create sample *distributionData dictionaries.\n",
      "    for each in range(1,7):\n",
      "        x = range(1,101)\n",
      "        y1 = np.random.normal(loc=3, scale=1.5, size=len(x))\n",
      "        y2 = np.random.normal(loc=5, scale=1, size=len(x))\n",
      "        y3 = np.random.normal(loc=7, scale=1, size=len(x))\n",
      "        temp = pd.DataFrame({'x':x, 'y':y1})\n",
      "        temp2 = pd.DataFrame({'x':x, 'y':y2})\n",
      "        temp3 = pd.DataFrame({'x':x, 'y':y3})\n",
      "        attempts[str(each)] = temp\n",
      "        deliveries[str(each)] = temp2\n",
      "        rest[str(each)] = temp3\n",
      "    \n",
      "    def __init__(self):\n",
      "        super(TestWindow, self).__init__()\n",
      "        self.initUI()\n",
      "    \n",
      "    \n",
      "    def initUI(self):\n",
      "        table = QtGui.QTableWidget()\n",
      "        button = QtGui.QPushButton('Update Table')\n",
      "        vbox = QtGui.QVBoxLayout()\n",
      "        vbox.addWidget(table)\n",
      "        vbox.addWidget(button)\n",
      "        leg = \n",
      "        \n",
      "        #button.clicked.connect(partial(self.populateTable, table))\n",
      "        self.populateTable(table)\n",
      "        \n",
      "        self.setLayout(vbox)\n",
      "        self.setGeometry(600,600,600,150)\n",
      "        self.setWindowTitle('Test Window')\n",
      "        self.show()\n",
      "        \n",
      "    def populateTable(self, table):\n",
      "        \n",
      "        # Include check to ensure that attempts, deliveries, and rest have the same number of inidividuals.\n",
      "        \n",
      "        row_labels = ['Total Attempts','Mean Attempts()','Stdev Attempts()','Total Deliveries','Mean Deliveries()','Stdev Deliveries()','Total Rest Time','Mean Rest Time()','Stdev Rest Time()']\n",
      "        row_count = len(row_labels)\n",
      "        column_count = len(attempts) + 1\n",
      "        table.setRowCount(row_count)\n",
      "        table.setColumnCount(column_count)\n",
      "        column_labels = ['Group']\n",
      "        column_labels = column_labels + attempts.keys()\n",
      "        \n",
      "        table.setVerticalHeaderLabels(row_labels)\n",
      "        table.setHorizontalHeaderLabels(column_labels)\n",
      "        \n",
      "        # Constants for statistic calculations:\n",
      "        WINDOW = 10\n",
      "        '''\n",
      "        item = QtGui.QTableWidgetItem('stoijrow')\n",
      "        item2 = QtGui.QTableWidgetItem('9')\n",
      "        table.setItem(0,0,item)\n",
      "        table.setItem(0,1,item2)\n",
      "        '''\n",
      "        # Attempts\n",
      "        for i in range(1,len(attempts)+1):\n",
      "            total = len(attempts)\n",
      "            mean = np.mean(attempts[str(i)]['y'])\n",
      "            stdev = np.std(attempts[str(i)]['y'])\n",
      "            total_item = QtGui.QTableWidgetItem(str(total))\n",
      "            mean_item = QtGui.QTableWidgetItem(str(mean))\n",
      "            stdev_item = QtGui.QTableWidgetItem(str(stdev))\n",
      "            table.setItem(0,i,total_item)\n",
      "            table.setItem(1,i,mean_item)\n",
      "            table.setItem(2,i,stdev_item)\n",
      "        \n",
      "        # Deliveries\n",
      "        for i in range(1,len(deliveries)+1):\n",
      "            total = len(deliveries)\n",
      "            mean = np.mean(deliveries[str(i)]['y'])\n",
      "            stdev = np.std(deliveries[str(i)]['y'])\n",
      "            total_item = QtGui.QTableWidgetItem(str(total))\n",
      "            mean_item = QtGui.QTableWidgetItem(str(mean))\n",
      "            stdev_item = QtGui.QTableWidgetItem(str(stdev))\n",
      "            table.setItem(3,i,total_item)\n",
      "            table.setItem(4,i,mean_item)\n",
      "            table.setItem(5,i,stdev_item)\n",
      "            \n",
      "        # Rest Time    \n",
      "        for i in range(1,len(rest)+1):\n",
      "            total = len(rest)\n",
      "            mean = np.mean(rest[str(i)]['y'])\n",
      "            stdev = np.std(rest[str(i)]['y'])\n",
      "            total_item = QtGui.QTableWidgetItem(str(total))\n",
      "            mean_item = QtGui.QTableWidgetItem(str(mean))\n",
      "            stdev_item = QtGui.QTableWidgetItem(str(stdev))\n",
      "            table.setItem(6,i,total_item)\n",
      "            table.setItem(7,i,mean_item)\n",
      "            table.setItem(8,i,stdev_item)\n",
      "            \n",
      "        # Group\n",
      "        #TODO"
     ],
     "language": "python",
     "metadata": {},
     "outputs": [],
     "prompt_number": 3
    },
    {
     "cell_type": "code",
     "collapsed": false,
     "input": [
      "def main():\n",
      "    app = QtGui.QApplication.instance()\n",
      "    if app is None:\n",
      "        app = QtGui.QApplication(sys.argv)\n",
      "        \n",
      "    ex = TestWindow()\n",
      "    sys.exit(app.exec_())"
     ],
     "language": "python",
     "metadata": {},
     "outputs": [],
     "prompt_number": 4
    },
    {
     "cell_type": "code",
     "collapsed": false,
     "input": [
      "if __name__ == '__main__':\n",
      "    main()"
     ],
     "language": "python",
     "metadata": {},
     "outputs": [
      {
       "ename": "SystemExit",
       "evalue": "0",
       "output_type": "pyerr",
       "traceback": [
        "An exception has occurred, use %tb to see the full traceback.\n",
        "\u001b[1;31mSystemExit\u001b[0m\u001b[1;31m:\u001b[0m 0\n"
       ]
      },
      {
       "output_type": "stream",
       "stream": "stderr",
       "text": [
        "To exit: use 'exit', 'quit', or Ctrl-D.\n"
       ]
      }
     ],
     "prompt_number": 5
    },
    {
     "cell_type": "code",
     "collapsed": false,
     "input": [],
     "language": "python",
     "metadata": {},
     "outputs": []
    }
   ],
   "metadata": {}
  }
 ]
}