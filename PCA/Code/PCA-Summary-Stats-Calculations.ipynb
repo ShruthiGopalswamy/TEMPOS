{
 "metadata": {
  "name": "",
  "signature": "sha256:f33f848286f128749d48e36a8f98af63534aa2db04ec8f7935abc841d44f7e13"
 },
 "nbformat": 3,
 "nbformat_minor": 0,
 "worksheets": [
  {
   "cells": [
    {
     "cell_type": "markdown",
     "metadata": {},
     "source": [
      "# PCA Summary Statistics Calculations"
     ]
    },
    {
     "cell_type": "code",
     "collapsed": false,
     "input": [
      "# Libraries\n",
      "import pandas as pd\n",
      "import numpy as np\n",
      "import matplotlib.pyplot as plt\n",
      "%matplotlib inline"
     ],
     "language": "python",
     "metadata": {},
     "outputs": [],
     "prompt_number": 19
    },
    {
     "cell_type": "markdown",
     "metadata": {},
     "source": [
      "## Sliding window for summary statistics calculations"
     ]
    },
    {
     "cell_type": "code",
     "collapsed": false,
     "input": [
      "# Sliding window for summary statistics calculations\n",
      "window_size = 30\n",
      "three_counts = []\n",
      "six_counts = []\n",
      "start = 0 \n",
      "end = start + window_size\n",
      "while end < len(data['y']):\n",
      "    temp = data.iloc[start:end,1]\n",
      "    three_counts.append(sum(temp == 3))\n",
      "    six_counts.append(sum(temp == 6))\n",
      "    start = start + (window_size / 2)\n",
      "    end = start + window_size\n",
      "print three_counts\n",
      "print six_counts\n",
      "print('Total: ', len(counts))\n",
      "print('3 Average: ', np.mean(three_counts))\n",
      "print('3 Stdev: ', np.std(three_counts))\n",
      "print('6 Average: ', np.mean(six_counts))\n",
      "print('6 Stdev: ', np.std(six_counts))"
     ],
     "language": "python",
     "metadata": {},
     "outputs": [
      {
       "output_type": "stream",
       "stream": "stdout",
       "text": [
        "[22, 22, 18, 18, 21, 20, 17, 18, 22, 21, 18, 20]\n",
        "[4, 5, 8, 5, 5, 5, 4, 4, 2, 6, 9, 6]\n",
        "('Total: ', 12)\n",
        "('3 Average: ', 19.75)\n",
        "('3 Stdev: ', 1.7853571071357126)\n",
        "('6 Average: ', 5.25)\n",
        "('6 Stdev: ', 1.7853571071357126)\n"
       ]
      }
     ],
     "prompt_number": 46
    },
    {
     "cell_type": "markdown",
     "metadata": {},
     "source": [
      "## Realistic sample data"
     ]
    },
    {
     "cell_type": "code",
     "collapsed": false,
     "input": [
      "# Sample data\n",
      "x = unique(np.random.randint(0, 200, size=75))\n",
      "y = np.random.randint(0, 3, size=len(x))"
     ],
     "language": "python",
     "metadata": {},
     "outputs": [],
     "prompt_number": 59
    },
    {
     "cell_type": "code",
     "collapsed": false,
     "input": [
      "# Make dataframe\n",
      "data = pd.DataFrame({'x':x,'y':y})\n",
      "data = data.set_index('x')\n",
      "data.index.names = [None]\n",
      "data = data.reindex(index=range(201))\n",
      "data = data.fillna(0)\n",
      "data['x'] = data.index\n",
      "data.head()"
     ],
     "language": "python",
     "metadata": {},
     "outputs": [
      {
       "html": [
        "<div style=\"max-width:1500px;overflow:auto;\">\n",
        "<table border=\"1\" class=\"dataframe\">\n",
        "  <thead>\n",
        "    <tr style=\"text-align: right;\">\n",
        "      <th></th>\n",
        "      <th>y</th>\n",
        "      <th>x</th>\n",
        "    </tr>\n",
        "  </thead>\n",
        "  <tbody>\n",
        "    <tr>\n",
        "      <th>0</th>\n",
        "      <td>1.0</td>\n",
        "      <td>0</td>\n",
        "    </tr>\n",
        "    <tr>\n",
        "      <th>1</th>\n",
        "      <td>0.0</td>\n",
        "      <td>1</td>\n",
        "    </tr>\n",
        "    <tr>\n",
        "      <th>2</th>\n",
        "      <td>1.0</td>\n",
        "      <td>2</td>\n",
        "    </tr>\n",
        "    <tr>\n",
        "      <th>3</th>\n",
        "      <td>0.0</td>\n",
        "      <td>3</td>\n",
        "    </tr>\n",
        "    <tr>\n",
        "      <th>4</th>\n",
        "      <td>0.0</td>\n",
        "      <td>4</td>\n",
        "    </tr>\n",
        "  </tbody>\n",
        "</table>\n",
        "</div>"
       ],
       "metadata": {},
       "output_type": "pyout",
       "prompt_number": 60,
       "text": [
        "     y  x\n",
        "0  1.0  0\n",
        "1  0.0  1\n",
        "2  1.0  2\n",
        "3  0.0  3\n",
        "4  0.0  4"
       ]
      }
     ],
     "prompt_number": 60
    },
    {
     "cell_type": "code",
     "collapsed": false,
     "input": [
      "# Plot sample dataset\n",
      "plt.bar(data.x,data.y)"
     ],
     "language": "python",
     "metadata": {},
     "outputs": [
      {
       "metadata": {},
       "output_type": "pyout",
       "prompt_number": 61,
       "text": [
        "<Container object of 201 artists>"
       ]
      },
      {
       "metadata": {},
       "output_type": "display_data",
       "png": "[encoded data removed]",
       "text": [
        "<matplotlib.figure.Figure at 0x950f860>"
       ]
      }
     ],
     "prompt_number": 61
    },
    {
     "cell_type": "code",
     "collapsed": false,
     "input": [
      "data.y = data.y * 3"
     ],
     "language": "python",
     "metadata": {},
     "outputs": [],
     "prompt_number": 64
    },
    {
     "cell_type": "code",
     "collapsed": false,
     "input": [
      "data.head()"
     ],
     "language": "python",
     "metadata": {},
     "outputs": [
      {
       "html": [
        "<div style=\"max-width:1500px;overflow:auto;\">\n",
        "<table border=\"1\" class=\"dataframe\">\n",
        "  <thead>\n",
        "    <tr style=\"text-align: right;\">\n",
        "      <th></th>\n",
        "      <th>y</th>\n",
        "      <th>x</th>\n",
        "    </tr>\n",
        "  </thead>\n",
        "  <tbody>\n",
        "    <tr>\n",
        "      <th>0</th>\n",
        "      <td>3.0</td>\n",
        "      <td>0</td>\n",
        "    </tr>\n",
        "    <tr>\n",
        "      <th>1</th>\n",
        "      <td>0.0</td>\n",
        "      <td>1</td>\n",
        "    </tr>\n",
        "    <tr>\n",
        "      <th>2</th>\n",
        "      <td>3.0</td>\n",
        "      <td>2</td>\n",
        "    </tr>\n",
        "    <tr>\n",
        "      <th>3</th>\n",
        "      <td>0.0</td>\n",
        "      <td>3</td>\n",
        "    </tr>\n",
        "    <tr>\n",
        "      <th>4</th>\n",
        "      <td>0.0</td>\n",
        "      <td>4</td>\n",
        "    </tr>\n",
        "  </tbody>\n",
        "</table>\n",
        "</div>"
       ],
       "metadata": {},
       "output_type": "pyout",
       "prompt_number": 66,
       "text": [
        "     y  x\n",
        "0  3.0  0\n",
        "1  0.0  1\n",
        "2  3.0  2\n",
        "3  0.0  3\n",
        "4  0.0  4"
       ]
      }
     ],
     "prompt_number": 66
    },
    {
     "cell_type": "code",
     "collapsed": false,
     "input": [
      "# Change y-values to integers\n",
      "data.y = data.y.astype(int)"
     ],
     "language": "python",
     "metadata": {},
     "outputs": [],
     "prompt_number": 71
    },
    {
     "cell_type": "code",
     "collapsed": false,
     "input": [
      "unique(data.y)"
     ],
     "language": "python",
     "metadata": {},
     "outputs": [
      {
       "metadata": {},
       "output_type": "pyout",
       "prompt_number": 73,
       "text": [
        "array([0, 3, 6])"
       ]
      }
     ],
     "prompt_number": 73
    },
    {
     "cell_type": "markdown",
     "metadata": {},
     "source": [
      "## Average PCA session duration"
     ]
    },
    {
     "cell_type": "code",
     "collapsed": false,
     "input": [
      "path = 'C:/Users/Zach/Documents/PCA/PCA infusion SN12928638.csv'\n",
      "data = pd.read_csv(path, index_col=10, parse_dates=True, infer_datetime_format=True, thousands=',')"
     ],
     "language": "python",
     "metadata": {},
     "outputs": [],
     "prompt_number": 73
    },
    {
     "cell_type": "code",
     "collapsed": false,
     "input": [
      "data.columns"
     ],
     "language": "python",
     "metadata": {},
     "outputs": [
      {
       "metadata": {},
       "output_type": "pyout",
       "prompt_number": 77,
       "text": [
        "Index([u'InfusionID', u'PatientIdentifier', u'PCUSerialNumber',\n",
        "       u'ModuleSerialNumber', u'DatasetName', u'DatasetID', u'ProfileName',\n",
        "       u'DrugName', u'InfusionType', u'InfusionSetup', u'StartReasonCode',\n",
        "       u'Alarm', u'State', u'ActualDurationSeconds', u'VolumeToBeInfuse',\n",
        "       u'ProgrammedDose', u'DoseUnit', u'Rate', u'RateUnit',\n",
        "       u'ProgrammedDurationSeconds', u'AlertType', u'AlertLimit',\n",
        "       u'Concentration', u'DrugAmountInfused', u'DrugAmountUnits',\n",
        "       u'DiluentVolume', u'VolumeInfusion', u'PCALockoutInterval',\n",
        "       u'PCAPauseLinkage', u'ClinicianID', u'OrderID', u'TotalRecords'],\n",
        "      dtype='object')"
       ]
      }
     ],
     "prompt_number": 77
    },
    {
     "cell_type": "code",
     "collapsed": false,
     "input": [
      "data.index.names = [None]\n",
      "data.head()"
     ],
     "language": "python",
     "metadata": {},
     "outputs": [
      {
       "html": [
        "<div style=\"max-width:1500px;overflow:auto;\">\n",
        "<table border=\"1\" class=\"dataframe\">\n",
        "  <thead>\n",
        "    <tr style=\"text-align: right;\">\n",
        "      <th></th>\n",
        "      <th>InfusionID</th>\n",
        "      <th>PatientIdentifier</th>\n",
        "      <th>PCUSerialNumber</th>\n",
        "      <th>ModuleSerialNumber</th>\n",
        "      <th>DatasetName</th>\n",
        "      <th>DatasetID</th>\n",
        "      <th>ProfileName</th>\n",
        "      <th>DrugName</th>\n",
        "      <th>InfusionType</th>\n",
        "      <th>InfusionSetup</th>\n",
        "      <th>...</th>\n",
        "      <th>Concentration</th>\n",
        "      <th>DrugAmountInfused</th>\n",
        "      <th>DrugAmountUnits</th>\n",
        "      <th>DiluentVolume</th>\n",
        "      <th>VolumeInfusion</th>\n",
        "      <th>PCALockoutInterval</th>\n",
        "      <th>PCAPauseLinkage</th>\n",
        "      <th>ClinicianID</th>\n",
        "      <th>OrderID</th>\n",
        "      <th>TotalRecords</th>\n",
        "    </tr>\n",
        "  </thead>\n",
        "  <tbody>\n",
        "    <tr>\n",
        "      <th>2015-09-28 21:09:00</th>\n",
        "      <td>264021979</td>\n",
        "      <td>Unknown</td>\n",
        "      <td>12940499</td>\n",
        "      <td>12928638</td>\n",
        "      <td>SUF_v12.1</td>\n",
        "      <td>01d81abb4-R</td>\n",
        "      <td>Adult MED/SURG</td>\n",
        "      <td>HYDROmorphone</td>\n",
        "      <td>PCA infusion</td>\n",
        "      <td>Idle</td>\n",
        "      <td>...</td>\n",
        "      <td>0.2</td>\n",
        "      <td>0.2</td>\n",
        "      <td>mg</td>\n",
        "      <td>1</td>\n",
        "      <td>NaN</td>\n",
        "      <td>6</td>\n",
        "      <td>NaN</td>\n",
        "      <td>Unknown</td>\n",
        "      <td>1.290000e+14</td>\n",
        "      <td>Total Records:  796</td>\n",
        "    </tr>\n",
        "    <tr>\n",
        "      <th>2015-09-28 14:43:00</th>\n",
        "      <td>264023676</td>\n",
        "      <td>Unknown</td>\n",
        "      <td>12940499</td>\n",
        "      <td>12928638</td>\n",
        "      <td>SUF_v12.1</td>\n",
        "      <td>01d81abb4-R</td>\n",
        "      <td>Adult MED/SURG</td>\n",
        "      <td>HYDROmorphone</td>\n",
        "      <td>PCA infusion</td>\n",
        "      <td>Idle</td>\n",
        "      <td>...</td>\n",
        "      <td>0.2</td>\n",
        "      <td>0.2</td>\n",
        "      <td>mg</td>\n",
        "      <td>1</td>\n",
        "      <td>NaN</td>\n",
        "      <td>6</td>\n",
        "      <td>NaN</td>\n",
        "      <td>Unknown</td>\n",
        "      <td>1.290000e+14</td>\n",
        "      <td>Total Records:  796</td>\n",
        "    </tr>\n",
        "    <tr>\n",
        "      <th>2015-09-28 14:58:00</th>\n",
        "      <td>264023676</td>\n",
        "      <td>Unknown</td>\n",
        "      <td>12940499</td>\n",
        "      <td>12928638</td>\n",
        "      <td>SUF_v12.1</td>\n",
        "      <td>01d81abb4-R</td>\n",
        "      <td>Adult MED/SURG</td>\n",
        "      <td>HYDROmorphone</td>\n",
        "      <td>PCA infusion</td>\n",
        "      <td>Nonexistent</td>\n",
        "      <td>...</td>\n",
        "      <td>0.2</td>\n",
        "      <td>0.2</td>\n",
        "      <td>mg</td>\n",
        "      <td>1</td>\n",
        "      <td>NaN</td>\n",
        "      <td>6</td>\n",
        "      <td>NaN</td>\n",
        "      <td>Unknown</td>\n",
        "      <td>1.290000e+14</td>\n",
        "      <td>Total Records:  796</td>\n",
        "    </tr>\n",
        "    <tr>\n",
        "      <th>2015-09-28 14:58:00</th>\n",
        "      <td>264023676</td>\n",
        "      <td>Unknown</td>\n",
        "      <td>12940499</td>\n",
        "      <td>12928638</td>\n",
        "      <td>SUF_v12.1</td>\n",
        "      <td>01d81abb4-R</td>\n",
        "      <td>Adult MED/SURG</td>\n",
        "      <td>HYDROmorphone</td>\n",
        "      <td>PCA infusion</td>\n",
        "      <td>PCA</td>\n",
        "      <td>...</td>\n",
        "      <td>0.2</td>\n",
        "      <td>0.2</td>\n",
        "      <td>mg</td>\n",
        "      <td>1</td>\n",
        "      <td>NaN</td>\n",
        "      <td>6</td>\n",
        "      <td>NaN</td>\n",
        "      <td>Unknown</td>\n",
        "      <td>1.290000e+14</td>\n",
        "      <td>Total Records:  796</td>\n",
        "    </tr>\n",
        "    <tr>\n",
        "      <th>2015-09-28 14:59:00</th>\n",
        "      <td>264023676</td>\n",
        "      <td>Unknown</td>\n",
        "      <td>12940499</td>\n",
        "      <td>12928638</td>\n",
        "      <td>SUF_v12.1</td>\n",
        "      <td>01d81abb4-R</td>\n",
        "      <td>Adult MED/SURG</td>\n",
        "      <td>HYDROmorphone</td>\n",
        "      <td>PCA infusion</td>\n",
        "      <td>Nonexistent</td>\n",
        "      <td>...</td>\n",
        "      <td>0.2</td>\n",
        "      <td>0.2</td>\n",
        "      <td>mg</td>\n",
        "      <td>1</td>\n",
        "      <td>NaN</td>\n",
        "      <td>6</td>\n",
        "      <td>NaN</td>\n",
        "      <td>Unknown</td>\n",
        "      <td>1.290000e+14</td>\n",
        "      <td>Total Records:  796</td>\n",
        "    </tr>\n",
        "  </tbody>\n",
        "</table>\n",
        "<p>5 rows \u00d7 32 columns</p>\n",
        "</div>"
       ],
       "metadata": {},
       "output_type": "pyout",
       "prompt_number": 80,
       "text": [
        "                     InfusionID PatientIdentifier  PCUSerialNumber  \\\n",
        "2015-09-28 21:09:00   264021979           Unknown         12940499   \n",
        "2015-09-28 14:43:00   264023676           Unknown         12940499   \n",
        "2015-09-28 14:58:00   264023676           Unknown         12940499   \n",
        "2015-09-28 14:58:00   264023676           Unknown         12940499   \n",
        "2015-09-28 14:59:00   264023676           Unknown         12940499   \n",
        "\n",
        "                     ModuleSerialNumber DatasetName    DatasetID  \\\n",
        "2015-09-28 21:09:00            12928638   SUF_v12.1  01d81abb4-R   \n",
        "2015-09-28 14:43:00            12928638   SUF_v12.1  01d81abb4-R   \n",
        "2015-09-28 14:58:00            12928638   SUF_v12.1  01d81abb4-R   \n",
        "2015-09-28 14:58:00            12928638   SUF_v12.1  01d81abb4-R   \n",
        "2015-09-28 14:59:00            12928638   SUF_v12.1  01d81abb4-R   \n",
        "\n",
        "                        ProfileName       DrugName  InfusionType  \\\n",
        "2015-09-28 21:09:00  Adult MED/SURG  HYDROmorphone  PCA infusion   \n",
        "2015-09-28 14:43:00  Adult MED/SURG  HYDROmorphone  PCA infusion   \n",
        "2015-09-28 14:58:00  Adult MED/SURG  HYDROmorphone  PCA infusion   \n",
        "2015-09-28 14:58:00  Adult MED/SURG  HYDROmorphone  PCA infusion   \n",
        "2015-09-28 14:59:00  Adult MED/SURG  HYDROmorphone  PCA infusion   \n",
        "\n",
        "                    InfusionSetup         ...          Concentration  \\\n",
        "2015-09-28 21:09:00          Idle         ...                    0.2   \n",
        "2015-09-28 14:43:00          Idle         ...                    0.2   \n",
        "2015-09-28 14:58:00   Nonexistent         ...                    0.2   \n",
        "2015-09-28 14:58:00           PCA         ...                    0.2   \n",
        "2015-09-28 14:59:00   Nonexistent         ...                    0.2   \n",
        "\n",
        "                    DrugAmountInfused DrugAmountUnits  DiluentVolume  \\\n",
        "2015-09-28 21:09:00               0.2              mg              1   \n",
        "2015-09-28 14:43:00               0.2              mg              1   \n",
        "2015-09-28 14:58:00               0.2              mg              1   \n",
        "2015-09-28 14:58:00               0.2              mg              1   \n",
        "2015-09-28 14:59:00               0.2              mg              1   \n",
        "\n",
        "                     VolumeInfusion  PCALockoutInterval PCAPauseLinkage  \\\n",
        "2015-09-28 21:09:00             NaN                   6             NaN   \n",
        "2015-09-28 14:43:00             NaN                   6             NaN   \n",
        "2015-09-28 14:58:00             NaN                   6             NaN   \n",
        "2015-09-28 14:58:00             NaN                   6             NaN   \n",
        "2015-09-28 14:59:00             NaN                   6             NaN   \n",
        "\n",
        "                     ClinicianID       OrderID         TotalRecords  \n",
        "2015-09-28 21:09:00      Unknown  1.290000e+14  Total Records:  796  \n",
        "2015-09-28 14:43:00      Unknown  1.290000e+14  Total Records:  796  \n",
        "2015-09-28 14:58:00      Unknown  1.290000e+14  Total Records:  796  \n",
        "2015-09-28 14:58:00      Unknown  1.290000e+14  Total Records:  796  \n",
        "2015-09-28 14:59:00      Unknown  1.290000e+14  Total Records:  796  \n",
        "\n",
        "[5 rows x 32 columns]"
       ]
      }
     ],
     "prompt_number": 80
    },
    {
     "cell_type": "code",
     "collapsed": false,
     "input": [
      "data.InfusionID.unique()"
     ],
     "language": "python",
     "metadata": {},
     "outputs": [
      {
       "metadata": {},
       "output_type": "pyout",
       "prompt_number": 74,
       "text": [
        "array([264021979, 264023676, 264025426, 264198310, 264199626, 264199664,\n",
        "       264201855, 264202514, 264203104, 264369822, 264370111, 264370806,\n",
        "       264372262, 264373771, 264570733, 264573072, 264573345, 264574968,\n",
        "       264575445, 264575856], dtype=int64)"
       ]
      }
     ],
     "prompt_number": 74
    },
    {
     "cell_type": "code",
     "collapsed": false,
     "input": [
      "differences = []\n",
      "for each in data.InfusionID.unique():\n",
      "    indices = data[data.InfusionID == each].index.unique()\n",
      "    diff = (max(indices) - min(indices)).total_seconds()\n",
      "    differences.append(diff)\n",
      "print differences\n",
      "print 'Mean(s): ', np.mean(differences)\n",
      "print 'Standard Deviation(s): ', np.std(differences)"
     ],
     "language": "python",
     "metadata": {},
     "outputs": [
      {
       "output_type": "stream",
       "stream": "stdout",
       "text": [
        "[0.0, 19020.0, 24780.0, 7440.000000000001, 54900.0, 11340.0, 60.00000000000001, 0.0, 14640.000000000002, 54360.0, 0.0, 2700.0, 5820.0, 11820.0, 0.0, 6540.0, 57240.0, 60.00000000000001, 8520.0, 30300.000000000004]\n",
        "Mean:  15477.0\n",
        "Standard Deviation:  18765.8042993\n"
       ]
      }
     ],
     "prompt_number": 89
    },
    {
     "cell_type": "code",
     "collapsed": false,
     "input": [
      "pca_durations = unique(differences)"
     ],
     "language": "python",
     "metadata": {},
     "outputs": [],
     "prompt_number": 92
    },
    {
     "cell_type": "code",
     "collapsed": false,
     "input": [
      "# All in minutes\n",
      "print np.mean(pca_durations[1:]) / 60\n",
      "print np.std(pca_durations[1:]) / 60\n",
      "print np.var(pca_durations[1:]) / (60**2)"
     ],
     "language": "python",
     "metadata": {},
     "outputs": [
      {
       "output_type": "stream",
       "stream": "stdout",
       "text": [
        "343.866666667\n",
        "317.649464382\n",
        "100901.182222\n"
       ]
      }
     ],
     "prompt_number": 103
    },
    {
     "cell_type": "code",
     "collapsed": false,
     "input": [],
     "language": "python",
     "metadata": {},
     "outputs": []
    }
   ],
   "metadata": {}
  }
 ]
}