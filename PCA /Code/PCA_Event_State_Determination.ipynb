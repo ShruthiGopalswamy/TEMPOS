{
 "metadata": {
  "name": "",
  "signature": "sha256:33d46db164cbc97c31eebd8d315bb158e1fad13fdb9a93874b3078ecfa267c7a"
 },
 "nbformat": 3,
 "nbformat_minor": 0,
 "worksheets": [
  {
   "cells": [
    {
     "cell_type": "markdown",
     "metadata": {},
     "source": [
      "# Temp notebook to get list of engineering events"
     ]
    },
    {
     "cell_type": "code",
     "collapsed": false,
     "input": [
      "import pandas as pd\n",
      "import os\n",
      "import csv"
     ],
     "language": "python",
     "metadata": {},
     "outputs": [],
     "prompt_number": 1
    },
    {
     "cell_type": "code",
     "collapsed": false,
     "input": [
      "# File Paths\n",
      "\n",
      "path = 'C:/Users/Zach/Documents/PCA/CSVs'\n",
      "\n",
      "p1 = '/TEMPOS-59 PCA data from Amy.csv'\n",
      "e1 = '/TEMPOS-59 PCA report from Clinical Engeering.csv'\n",
      "p2 = '/TEMPOS-61 PCA report from Amy.csv'\n",
      "e2 = '/TEMPOS-61 PCA log from Clinical Engineering.csv'\n",
      "p3 = '/TEMPOS-57 PCA data from Amy.csv'\n",
      "e3 = '/TEMPOS-57 PCA data from Craig.csv'\n",
      "p4 = '/TEMPOS 62- PCA log from Amy.csv'\n",
      "e4 = '/PC12941142Log_Report from Craig.csv'"
     ],
     "language": "python",
     "metadata": {},
     "outputs": [],
     "prompt_number": 2
    },
    {
     "cell_type": "code",
     "collapsed": false,
     "input": [
      "# Pharmacy and Engineering 1\n",
      "\n",
      "p1_data = pd.read_csv(path+p1, skiprows=5, index_col=16, parse_dates=True, infer_datetime_format=True)\n",
      "del p1_data.index.name\n",
      "p1_data = p1_data.sort_index()\n",
      "p1_data = p1_data[['Infusion Setup','Start Reason Code','State','Actual Duration Seconds','Programmed Dose']]\n",
      "\n",
      "e1_data = pd.read_csv(path+e1, skiprows=4, index_col=1, parse_dates=True, infer_datetime_format=True)\n",
      "del e1_data.index.name\n",
      "e1_data = e1_data.sort_index()\n",
      "e1_data = e1_data[['Description','Details']]"
     ],
     "language": "python",
     "metadata": {},
     "outputs": [],
     "prompt_number": 3
    },
    {
     "cell_type": "code",
     "collapsed": false,
     "input": [
      "e1_data['Description'].unique()"
     ],
     "language": "python",
     "metadata": {},
     "outputs": [
      {
       "metadata": {},
       "output_type": "pyout",
       "prompt_number": 4,
       "text": [
        "array(['AVA_EVENT_ATTACHED', 'POWERED_ON_ATTACHED', 'DOOR_UNLOCKED',\n",
        "       'DOOR_OPENED', 'CENTRAL_UNIT_INFO', 'KEYPRESS_ATTACHED',\n",
        "       'UNIT_LABEL', 'DOOR_CLOSED', 'DOOR_LOCKED', 'SYR_SELECTION',\n",
        "       'PROGRAM_START_ATTACHED', 'PROGRAM_COMPLETE_ATTACHED',\n",
        "       'FD_LOAD_PRIME_INFUSION', 'PROGRAM_STEP_COMPLETE_ATTACHED',\n",
        "       'BIT_COUNT_EVENT', 'KEYPRESS_IGNORED_ATTACHED', 'STANDBY_MODE', nan], dtype=object)"
       ]
      }
     ],
     "prompt_number": 4
    },
    {
     "cell_type": "code",
     "collapsed": false,
     "input": [
      "#p1_data.head()"
     ],
     "language": "python",
     "metadata": {},
     "outputs": [],
     "prompt_number": 5
    },
    {
     "cell_type": "code",
     "collapsed": false,
     "input": [
      "#e1_data.head()"
     ],
     "language": "python",
     "metadata": {},
     "outputs": [],
     "prompt_number": 6
    },
    {
     "cell_type": "code",
     "collapsed": false,
     "input": [
      "# Pharmacy and Engineering 2\n",
      "\n",
      "p2_data = pd.read_csv(path+p2, skiprows=5, index_col=16, parse_dates=True, infer_datetime_format=True)\n",
      "del p2_data.index.name\n",
      "p2_data = p2_data.sort_index()\n",
      "p2_data = p2_data[['Infusion Setup','Start Reason Code','State','Actual Duration Seconds','Programmed Dose']]\n",
      "\n",
      "e2_data = pd.read_csv(path+e2, skiprows=4, index_col=1, parse_dates=True, infer_datetime_format=True)\n",
      "del e2_data.index.name\n",
      "e2_data = e2_data.sort_index()\n",
      "e2_data = e2_data[['Description','Details']]"
     ],
     "language": "python",
     "metadata": {},
     "outputs": [],
     "prompt_number": 7
    },
    {
     "cell_type": "code",
     "collapsed": false,
     "input": [
      "e2_data['Description'].unique()"
     ],
     "language": "python",
     "metadata": {},
     "outputs": [
      {
       "metadata": {},
       "output_type": "pyout",
       "prompt_number": 8,
       "text": [
        "array(['AVA_EVENT_ATTACHED', 'POWERED_ON_ATTACHED', 'UNIT_LABEL',\n",
        "       'KEYPRESS_ATTACHED', 'CENTRAL_UNIT_INFO', 'DOOR_UNLOCKED',\n",
        "       'DOOR_CLOSED', 'DOOR_OPENED', 'DOOR_LOCKED', 'SYR_SELECTION',\n",
        "       'PROGRAM_START_ATTACHED', 'PROGRAM_COMPLETE_ATTACHED',\n",
        "       'FD_LOAD_PRIME_INFUSION', 'PROGRAM_STEP_COMPLETE_ATTACHED',\n",
        "       'BIT_COUNT_EVENT', 'KEYPRESS_IGNORED_ATTACHED', nan], dtype=object)"
       ]
      }
     ],
     "prompt_number": 8
    },
    {
     "cell_type": "code",
     "collapsed": false,
     "input": [
      "#p2_data.head()"
     ],
     "language": "python",
     "metadata": {},
     "outputs": [],
     "prompt_number": 9
    },
    {
     "cell_type": "code",
     "collapsed": false,
     "input": [
      "#e2_data.head()"
     ],
     "language": "python",
     "metadata": {},
     "outputs": [],
     "prompt_number": 10
    },
    {
     "cell_type": "code",
     "collapsed": false,
     "input": [
      "# Pharmacy and Engineering 3\n",
      "\n",
      "p3_data = pd.read_csv(path+p3, skiprows=5, index_col=16, parse_dates=True, infer_datetime_format=True)\n",
      "del p3_data.index.name\n",
      "p3_data = p3_data.sort_index()\n",
      "p3_data = p3_data[['Infusion Setup','Start Reason Code','State','Actual Duration Seconds','Programmed Dose']]\n",
      "\n",
      "e3_data = pd.read_csv(path+e3, skiprows=4, index_col=1, parse_dates=True, infer_datetime_format=True)\n",
      "del e3_data.index.name\n",
      "e3_data = e3_data.sort_index()\n",
      "e3_data = e3_data[['Description','Details']]"
     ],
     "language": "python",
     "metadata": {},
     "outputs": [],
     "prompt_number": 11
    },
    {
     "cell_type": "code",
     "collapsed": false,
     "input": [
      "e3_data['Description'].unique()"
     ],
     "language": "python",
     "metadata": {},
     "outputs": [
      {
       "metadata": {},
       "output_type": "pyout",
       "prompt_number": 12,
       "text": [
        "array(['POWERED_ON_ATTACHED', 'AVA_EVENT_ATTACHED', 'CENTRAL_UNIT_INFO',\n",
        "       'KEYPRESS_ATTACHED', 'UNIT_LABEL', 'DOOR_OPENED', 'DOOR_UNLOCKED',\n",
        "       'DOOR_CLOSED', 'DOOR_LOCKED', 'SYR_SELECTION',\n",
        "       'PROGRAM_START_ATTACHED', 'PROGRAM_COMPLETE_ATTACHED',\n",
        "       'FD_LOAD_PRIME_INFUSION', 'PROGRAM_STEP_COMPLETE_ATTACHED',\n",
        "       'KEYPRESS_IGNORED_ATTACHED', 'BIT_COUNT_EVENT', nan], dtype=object)"
       ]
      }
     ],
     "prompt_number": 12
    },
    {
     "cell_type": "code",
     "collapsed": false,
     "input": [
      "#p3_data.head()"
     ],
     "language": "python",
     "metadata": {},
     "outputs": [],
     "prompt_number": 13
    },
    {
     "cell_type": "code",
     "collapsed": false,
     "input": [
      "#e3_data.head()"
     ],
     "language": "python",
     "metadata": {},
     "outputs": [],
     "prompt_number": 14
    },
    {
     "cell_type": "code",
     "collapsed": false,
     "input": [
      "# Pharmacy and Engineering 3\n",
      "\n",
      "p4_data = pd.read_csv(path+p4, skiprows=5, index_col=16, parse_dates=True, infer_datetime_format=True)\n",
      "del p4_data.index.name\n",
      "p4_data = p4_data.sort_index()\n",
      "p4_data = p4_data[['Infusion Setup','Start Reason Code','State','Actual Duration Seconds','Programmed Dose']]\n",
      "\n",
      "e4_data = pd.read_csv(path+e4, skiprows=4, index_col=1, parse_dates=True, infer_datetime_format=True)\n",
      "del e4_data.index.name\n",
      "e4_data = e4_data.sort_index()\n",
      "e4_data = e4_data[['Description','Details']]"
     ],
     "language": "python",
     "metadata": {},
     "outputs": [],
     "prompt_number": 15
    },
    {
     "cell_type": "code",
     "collapsed": false,
     "input": [
      "e4_data['Description'].unique()"
     ],
     "language": "python",
     "metadata": {},
     "outputs": [
      {
       "metadata": {},
       "output_type": "pyout",
       "prompt_number": 16,
       "text": [
        "array(['RDS_CONNECTION_LOST', 'RDS_CONNECTION_ESTABLISHED',\n",
        "       'EXTERNAL_CONTROL_EVENT', 'AVA_EVENT_PCU', 'DC_POWER',\n",
        "       'UNIT_REMOVED', 'KEYPRESS_PCU', 'FORM_REQUEST', 'ACTIVATE_PAGE',\n",
        "       'POWERED_OFF', 'SHUTDOWN_COMPLETE', 'POWERED_ON_PCU',\n",
        "       'CI_BOARD_DEVICE_INFO', 'CI_BOARD_DETECTED', 'UNIT_ADDED',\n",
        "       'PUMP_IDLE', 'CI_BOARD_COMM_ESTABLISHED', 'PUMP_ALARMED',\n",
        "       'UNIT_KEYPRESS', 'PUMP_INFUSING', 'BLOCK_STEP_DATA',\n",
        "       'ORDER_ID_STARTED', 'PROGRAM_START_PCU', 'PROGRAM_DATA',\n",
        "       'UNIT_LABEL_REASSIGNED', 'DRUG_SELECTED',\n",
        "       'PCA_INFUSION_MODE_SELECTED', 'PCA_INFUSION_START',\n",
        "       'SYRINGE_SELECTION', 'PROGRAM_COMPLETE_PCU',\n",
        "       'PROGRAM_STEP_COMPLETE_PCU', 'MSG_REQUEST_INVALID', 'PUMP_PAUSED',\n",
        "       'AC_POWER', 'KEYPRESS_ILLEGAL', 'DELAY_FOR_STEP_DATA',\n",
        "       'DRUG_CALC_SETUP_1', 'CONTINUOUS_DRUG_DOSE',\n",
        "       'PATIENT_WEIGHT_CHANGE', 'DRUG_CALC_SETUP_2', nan], dtype=object)"
       ]
      }
     ],
     "prompt_number": 16
    },
    {
     "cell_type": "code",
     "collapsed": false,
     "input": [
      "descriptions = list(e1_data['Description'].unique()) + list(e2_data['Description'].unique()) + list(e3_data['Description'].unique()) + list(e4_data['Description'].unique())"
     ],
     "language": "python",
     "metadata": {},
     "outputs": [],
     "prompt_number": 40
    },
    {
     "cell_type": "code",
     "collapsed": false,
     "input": [
      "unique_list = []\n",
      "for each in descriptions:\n",
      "    if not each in unique_list:\n",
      "        unique_list.append(each)\n",
      "print len(unique_list)\n",
      "print len(unique(unique_list))"
     ],
     "language": "python",
     "metadata": {},
     "outputs": [
      {
       "output_type": "stream",
       "stream": "stdout",
       "text": [
        "58\n",
        "58\n"
       ]
      }
     ],
     "prompt_number": 46
    },
    {
     "cell_type": "code",
     "collapsed": false,
     "input": [
      "'''\n",
      "# Export as csv\n",
      "\n",
      "os.chdir('C:\\\\Users\\\\Zach\\\\Documents\\\\PCA')\n",
      "\n",
      "myfile = open('eng_events', 'wb')\n",
      "wr = csv.writer(myfile, quoting=csv.QUOTE_ALL)\n",
      "wr.writerow(unique_list)\n",
      "\n",
      "myfile.close()\n",
      "'''"
     ],
     "language": "python",
     "metadata": {},
     "outputs": [],
     "prompt_number": 48
    },
    {
     "cell_type": "code",
     "collapsed": false,
     "input": [
      "print p1_data[p1_data['Infusion Setup'] == 'PCA']['State'].unique()\n",
      "print p1_data[p1_data['Infusion Setup'] == 'Idle']['State'].unique()\n",
      "print p1_data[p1_data['Infusion Setup'] == 'Nonexistent']['State'].unique()\n",
      "print ''\n",
      "\n",
      "print p2_data[p2_data['Infusion Setup'] == 'PCA']['State'].unique()\n",
      "print p2_data[p2_data['Infusion Setup'] == 'Idle']['State'].unique()\n",
      "print p2_data[p2_data['Infusion Setup'] == 'Nonexistent']['State'].unique()\n",
      "print ''\n",
      "\n",
      "print p3_data[p3_data['Infusion Setup'] == 'PCA']['State'].unique()\n",
      "print p3_data[p3_data['Infusion Setup'] == 'Idle']['State'].unique()\n",
      "print p3_data[p3_data['Infusion Setup'] == 'Nonexistent']['State'].unique()\n",
      "print ''\n",
      "\n",
      "print p4_data[p4_data['Infusion Setup'] == 'PCA']['State'].unique()\n",
      "print p4_data[p4_data['Infusion Setup'] == 'Idle']['State'].unique()\n",
      "print p4_data[p4_data['Infusion Setup'] == 'Nonexistent']['State'].unique()\n",
      "print ''"
     ],
     "language": "python",
     "metadata": {},
     "outputs": [
      {
       "output_type": "stream",
       "stream": "stdout",
       "text": [
        "['Infusing']\n",
        "['Infusing' 'Infusion Alarm']\n",
        "['Infusion Completed' 'Infusion Alarm']\n",
        "\n",
        "['Infusing']\n",
        "['Infusing' 'Infusion Alarm' 'Infusion Paused']\n",
        "['Infusion Completed']\n",
        "\n",
        "['Infusing']\n",
        "['Infusing' 'Infusion Paused']\n",
        "['Infusion Completed']\n",
        "\n",
        "['Infusing']\n",
        "['Infusing' 'Infusion Paused']\n",
        "['Infusion Completed']\n",
        "\n"
       ]
      }
     ],
     "prompt_number": 26
    },
    {
     "cell_type": "code",
     "collapsed": false,
     "input": [
      "p1_data[(p1_data['Infusion Setup'] == 'Nonexistent') & (p1_data['State'] == 'Infusion Alarm')]"
     ],
     "language": "python",
     "metadata": {},
     "outputs": [
      {
       "html": [
        "<div style=\"max-width:1500px;overflow:auto;\">\n",
        "<table border=\"1\" class=\"dataframe\">\n",
        "  <thead>\n",
        "    <tr style=\"text-align: right;\">\n",
        "      <th></th>\n",
        "      <th>Infusion Setup</th>\n",
        "      <th>Start Reason Code</th>\n",
        "      <th>State</th>\n",
        "      <th>Actual Duration Seconds</th>\n",
        "      <th>Programmed Dose</th>\n",
        "    </tr>\n",
        "  </thead>\n",
        "  <tbody>\n",
        "    <tr>\n",
        "      <th>2016-05-12 05:23:32</th>\n",
        "      <td>Nonexistent</td>\n",
        "      <td>Infusion Completed</td>\n",
        "      <td>Infusion Alarm</td>\n",
        "      <td>104</td>\n",
        "      <td>NaN</td>\n",
        "    </tr>\n",
        "  </tbody>\n",
        "</table>\n",
        "</div>"
       ],
       "metadata": {},
       "output_type": "pyout",
       "prompt_number": 28,
       "text": [
        "                    Infusion Setup   Start Reason Code           State  \\\n",
        "2016-05-12 05:23:32    Nonexistent  Infusion Completed  Infusion Alarm   \n",
        "\n",
        "                    Actual Duration Seconds  Programmed Dose  \n",
        "2016-05-12 05:23:32                     104              NaN  "
       ]
      }
     ],
     "prompt_number": 28
    },
    {
     "cell_type": "code",
     "collapsed": false,
     "input": [],
     "language": "python",
     "metadata": {},
     "outputs": []
    }
   ],
   "metadata": {}
  }
 ]
}